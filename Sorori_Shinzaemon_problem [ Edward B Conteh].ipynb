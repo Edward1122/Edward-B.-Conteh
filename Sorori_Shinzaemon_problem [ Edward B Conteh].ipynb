{
 "cells": [
  {
   "cell_type": "markdown",
   "metadata": {},
   "source": [
    "[PROBLEM 1] Number of Grain of Rice in the 100th day"
   ]
  },
  {
   "cell_type": "code",
   "execution_count": 1,
   "metadata": {},
   "outputs": [
    {
     "name": "stdout",
     "output_type": "stream",
     "text": [
      "1 1\n",
      "2 2\n",
      "3 4\n",
      "4 8\n",
      "5 16\n",
      "6 32\n",
      "7 64\n",
      "8 128\n",
      "9 256\n",
      "10 512\n",
      "11 1024\n",
      "12 2048\n",
      "13 4096\n",
      "14 8192\n",
      "15 16384\n",
      "16 32768\n",
      "17 65536\n",
      "18 131072\n",
      "19 262144\n",
      "20 524288\n",
      "21 1048576\n",
      "22 2097152\n",
      "23 4194304\n",
      "24 8388608\n",
      "25 16777216\n",
      "26 33554432\n",
      "27 67108864\n",
      "28 134217728\n",
      "29 268435456\n",
      "30 536870912\n",
      "31 1073741824\n",
      "32 2147483648\n",
      "33 4294967296\n",
      "34 8589934592\n",
      "35 17179869184\n",
      "36 34359738368\n",
      "37 68719476736\n",
      "38 137438953472\n",
      "39 274877906944\n",
      "40 549755813888\n",
      "41 1099511627776\n",
      "42 2199023255552\n",
      "43 4398046511104\n",
      "44 8796093022208\n",
      "45 17592186044416\n",
      "46 35184372088832\n",
      "47 70368744177664\n",
      "48 140737488355328\n",
      "49 281474976710656\n",
      "50 562949953421312\n",
      "51 1125899906842624\n",
      "52 2251799813685248\n",
      "53 4503599627370496\n",
      "54 9007199254740992\n",
      "55 18014398509481984\n",
      "56 36028797018963968\n",
      "57 72057594037927936\n",
      "58 144115188075855872\n",
      "59 288230376151711744\n",
      "60 576460752303423488\n",
      "61 1152921504606846976\n",
      "62 2305843009213693952\n",
      "63 4611686018427387904\n",
      "64 9223372036854775808\n",
      "65 18446744073709551616\n",
      "66 36893488147419103232\n",
      "67 73786976294838206464\n",
      "68 147573952589676412928\n",
      "69 295147905179352825856\n",
      "70 590295810358705651712\n",
      "71 1180591620717411303424\n",
      "72 2361183241434822606848\n",
      "73 4722366482869645213696\n",
      "74 9444732965739290427392\n",
      "75 18889465931478580854784\n",
      "76 37778931862957161709568\n",
      "77 75557863725914323419136\n",
      "78 151115727451828646838272\n",
      "79 302231454903657293676544\n",
      "80 604462909807314587353088\n",
      "81 1208925819614629174706176\n",
      "82 2417851639229258349412352\n",
      "83 4835703278458516698824704\n",
      "84 9671406556917033397649408\n",
      "85 19342813113834066795298816\n",
      "86 38685626227668133590597632\n",
      "87 77371252455336267181195264\n",
      "88 154742504910672534362390528\n",
      "89 309485009821345068724781056\n",
      "90 618970019642690137449562112\n",
      "91 1237940039285380274899124224\n",
      "92 2475880078570760549798248448\n",
      "93 4951760157141521099596496896\n",
      "94 9903520314283042199192993792\n",
      "95 19807040628566084398385987584\n",
      "96 39614081257132168796771975168\n",
      "97 79228162514264337593543950336\n",
      "98 158456325028528675187087900672\n",
      "99 316912650057057350374175801344\n",
      "100 633825300114114700748351602688\n",
      "Sum of rice in 100 days is:  1267650600228229401496703205376\n"
     ]
    }
   ],
   "source": [
    "num_days = 100\n",
    "total_grain_rice = 1\n",
    "\n",
    "for i in range(1, num_days + 1):\n",
    "    print(i, total_grain_rice)#show the amount of grains received for that day\n",
    "    total_grain_rice *= 2\n",
    "    \n",
    "#grain of rice in the 100th day    \n",
    "print(\"Sum of rice in\", i, \"days is: \", total_grain_rice)\n",
    "   \n",
    "           "
   ]
  },
  {
   "cell_type": "code",
   "execution_count": 2,
   "metadata": {},
   "outputs": [
    {
     "name": "stdout",
     "output_type": "stream",
     "text": [
      "For day: 1 the total grain is: 1\n",
      "For day: 2 the total grain is: 2\n",
      "For day: 3 the total grain is: 4\n",
      "For day: 4 the total grain is: 8\n",
      "For day: 5 the total grain is: 16\n",
      "For day: 6 the total grain is: 32\n",
      "For day: 7 the total grain is: 64\n",
      "For day: 8 the total grain is: 128\n",
      "For day: 9 the total grain is: 256\n",
      "For day: 10 the total grain is: 512\n",
      "For day: 11 the total grain is: 1024\n",
      "For day: 12 the total grain is: 2048\n",
      "For day: 13 the total grain is: 4096\n",
      "For day: 14 the total grain is: 8192\n",
      "For day: 15 the total grain is: 16384\n",
      "For day: 16 the total grain is: 32768\n",
      "For day: 17 the total grain is: 65536\n",
      "For day: 18 the total grain is: 131072\n",
      "For day: 19 the total grain is: 262144\n",
      "For day: 20 the total grain is: 524288\n",
      "For day: 21 the total grain is: 1048576\n",
      "For day: 22 the total grain is: 2097152\n",
      "For day: 23 the total grain is: 4194304\n",
      "For day: 24 the total grain is: 8388608\n",
      "For day: 25 the total grain is: 16777216\n",
      "For day: 26 the total grain is: 33554432\n",
      "For day: 27 the total grain is: 67108864\n",
      "For day: 28 the total grain is: 134217728\n",
      "For day: 29 the total grain is: 268435456\n",
      "For day: 30 the total grain is: 536870912\n",
      "For day: 31 the total grain is: 1073741824\n",
      "For day: 32 the total grain is: 2147483648\n",
      "For day: 33 the total grain is: 4294967296\n",
      "For day: 34 the total grain is: 8589934592\n",
      "For day: 35 the total grain is: 17179869184\n",
      "For day: 36 the total grain is: 34359738368\n",
      "For day: 37 the total grain is: 68719476736\n",
      "For day: 38 the total grain is: 137438953472\n",
      "For day: 39 the total grain is: 274877906944\n",
      "For day: 40 the total grain is: 549755813888\n",
      "For day: 41 the total grain is: 1099511627776\n",
      "For day: 42 the total grain is: 2199023255552\n",
      "For day: 43 the total grain is: 4398046511104\n",
      "For day: 44 the total grain is: 8796093022208\n",
      "For day: 45 the total grain is: 17592186044416\n",
      "For day: 46 the total grain is: 35184372088832\n",
      "For day: 47 the total grain is: 70368744177664\n",
      "For day: 48 the total grain is: 140737488355328\n",
      "For day: 49 the total grain is: 281474976710656\n",
      "For day: 50 the total grain is: 562949953421312\n",
      "For day: 51 the total grain is: 1125899906842624\n",
      "For day: 52 the total grain is: 2251799813685248\n",
      "For day: 53 the total grain is: 4503599627370496\n",
      "For day: 54 the total grain is: 9007199254740992\n",
      "For day: 55 the total grain is: 18014398509481984\n",
      "For day: 56 the total grain is: 36028797018963968\n",
      "For day: 57 the total grain is: 72057594037927936\n",
      "For day: 58 the total grain is: 144115188075855872\n",
      "For day: 59 the total grain is: 288230376151711744\n",
      "For day: 60 the total grain is: 576460752303423488\n",
      "For day: 61 the total grain is: 1152921504606846976\n",
      "For day: 62 the total grain is: 2305843009213693952\n",
      "For day: 63 the total grain is: 4611686018427387904\n",
      "For day: 64 the total grain is: 9223372036854775808\n",
      "For day: 65 the total grain is: 18446744073709551616\n",
      "For day: 66 the total grain is: 36893488147419103232\n",
      "For day: 67 the total grain is: 73786976294838206464\n",
      "For day: 68 the total grain is: 147573952589676412928\n",
      "For day: 69 the total grain is: 295147905179352825856\n",
      "For day: 70 the total grain is: 590295810358705651712\n",
      "For day: 71 the total grain is: 1180591620717411303424\n",
      "For day: 72 the total grain is: 2361183241434822606848\n",
      "For day: 73 the total grain is: 4722366482869645213696\n",
      "For day: 74 the total grain is: 9444732965739290427392\n",
      "For day: 75 the total grain is: 18889465931478580854784\n",
      "For day: 76 the total grain is: 37778931862957161709568\n",
      "For day: 77 the total grain is: 75557863725914323419136\n",
      "For day: 78 the total grain is: 151115727451828646838272\n",
      "For day: 79 the total grain is: 302231454903657293676544\n",
      "For day: 80 the total grain is: 604462909807314587353088\n",
      "For day: 81 the total grain is: 1208925819614629174706176\n",
      "For day: 82 the total grain is: 2417851639229258349412352\n",
      "For day: 83 the total grain is: 4835703278458516698824704\n",
      "For day: 84 the total grain is: 9671406556917033397649408\n",
      "For day: 85 the total grain is: 19342813113834066795298816\n",
      "For day: 86 the total grain is: 38685626227668133590597632\n",
      "For day: 87 the total grain is: 77371252455336267181195264\n",
      "For day: 88 the total grain is: 154742504910672534362390528\n",
      "For day: 89 the total grain is: 309485009821345068724781056\n",
      "For day: 90 the total grain is: 618970019642690137449562112\n",
      "For day: 91 the total grain is: 1237940039285380274899124224\n",
      "For day: 92 the total grain is: 2475880078570760549798248448\n",
      "For day: 93 the total grain is: 4951760157141521099596496896\n",
      "For day: 94 the total grain is: 9903520314283042199192993792\n",
      "For day: 95 the total grain is: 19807040628566084398385987584\n",
      "For day: 96 the total grain is: 39614081257132168796771975168\n",
      "For day: 97 the total grain is: 79228162514264337593543950336\n",
      "For day: 98 the total grain is: 158456325028528675187087900672\n",
      "For day: 99 the total grain is: 316912650057057350374175801344\n",
      "For day: 100 the total grain is: 633825300114114700748351602688\n",
      "Sum of rice in 100 days is:  1267650600228229401496703205376\n"
     ]
    }
   ],
   "source": [
    "num_days = 100\n",
    "total_grain_rice = 1\n",
    "#creating the values for the x and y axis\n",
    "yaxis = []\n",
    "xaxis = list(range(1, num_days + 1))\n",
    "\n",
    "for i in range(1, num_days + 1,):\n",
    "    #list the change in the rice grain\n",
    "    print(\"For day: {} the total grain is: {}\".format(i, total_grain_rice))\n",
    "    \n",
    "    #appending the total grain rice into the list of the yaxis\n",
    "    yaxis.append(total_grain_rice)\n",
    "    total_grain_rice = 2**i    \n",
    "        \n",
    "print(\"Sum of rice in\", i, \"days is: \", total_grain_rice)\n",
    "           "
   ]
  },
  {
   "cell_type": "code",
   "execution_count": 3,
   "metadata": {},
   "outputs": [
    {
     "data": {
      "image/png": "[encoded data removed]",
      "text/plain": [
       "<Figure size 432x288 with 1 Axes>"
      ]
     },
     "metadata": {
      "needs_background": "light"
     },
     "output_type": "display_data"
    },
    {
     "data": {
      "text/plain": [
       "<Figure size 3456x1728 with 0 Axes>"
      ]
     },
     "metadata": {},
     "output_type": "display_data"
    }
   ],
   "source": [
    "#plotting the graph\n",
    "import matplotlib.pyplot as plt\n",
    "\n",
    "plt.xlabel('Number of Days')\n",
    "plt.ylabel('Number of Rice')\n",
    "plt.title('Change in the Number of Rice Grain')\n",
    "plt.plot(xaxis, yaxis, linewidth=3.0)\n",
    "plt.tick_params(labelsize=10)\n",
    "plt.figure(figsize=(48, 24))\n",
    "plt.show()"
   ]
  },
  {
   "cell_type": "markdown",
   "metadata": {},
   "source": [
    "【Problem 2] Number of rice grains outside of the 100th day"
   ]
  },
  {
   "cell_type": "code",
   "execution_count": 4,
   "metadata": {},
   "outputs": [
    {
     "name": "stdout",
     "output_type": "stream",
     "text": [
      "days: 10\n",
      "grains: 1023\n"
     ]
    }
   ],
   "source": [
    "#Create a function\n",
    "def compute_sorori_shinzaemon(day=100):\n",
    "    #List containing number of days\n",
    "    list_n_grains = [(lambda x: x)(x) for x in range(1, day + 1)]\n",
    "    \n",
    "    #This list show the total number of rice receive per day\n",
    "    list_total_grains = [2**x-1 for x in range(1, day + 1) ]\n",
    "    pass\n",
    "    return list_n_grains, list_total_grains\n",
    "\"\"\"\"\n",
    "The function to calculate the amount of rice a person can get\n",
    "for the number of days he/she has taken the course.\n",
    "It also take input from users.\n",
    "\"\"\"\n",
    "list_n_grains, list_total_grains = compute_sorori_shinzaemon(day=10)\n",
    "#index function to call the total amount\n",
    "print(\"days: {}\".format(list_n_grains[-1]))\n",
    "#index function to call the total amount\n",
    "print(\"grains: {}\".format(list_total_grains[-1]))"
   ]
  },
  {
   "cell_type": "markdown",
   "metadata": {},
   "source": [
    "# version of the above code that accept input from the user"
   ]
  },
  {
   "cell_type": "code",
   "execution_count": null,
   "metadata": {},
   "outputs": [],
   "source": [
    "#Create a function\n",
    "def compute_sorori_shinzaemon(day=100):\n",
    "    #List containing number of days\n",
    "    list_n_grains1 = [(lambda x: x)(x) for x in range(1, day + 1)]\n",
    "    \n",
    "    #This list show the total number of rice receive per day\n",
    "    list_total_grains1 = [2**x-1 for x in range(1, day + 1) ]\n",
    "    pass\n",
    "    return list_n_grains1, list_total_grains1\n",
    "\"\"\"\"\n",
    "The function to calculate the amount of rice a person can get\n",
    "for the number of days he/she has taken the course.\n",
    "It also take input from users.\n",
    "\"\"\"\n",
    "list_n_grains1, list_total_grains1 = compute_sorori_shinzaemon(int(input(\"Days amount Entered: \")))\n",
    "#index function to call the total amount\n",
    "print(\"days: {}\".format(list_n_grains1[-1]))\n",
    "#index function to call the total amount\n",
    "print(\"grains: {}\".format(list_total_grains1[-1]))"
   ]
  },
  {
   "cell_type": "markdown",
   "metadata": {},
   "source": [
    "# Plotting the graph\n"
   ]
  },
  {
   "cell_type": "markdown",
   "metadata": {},
   "source": [
    "The input data for the graph is going to be influence by the input the input the user is going to \n",
    "give in the last task. this is due to the slight experimentations i was doing twith the code."
   ]
  },
  {
   "cell_type": "code",
   "execution_count": null,
   "metadata": {},
   "outputs": [],
   "source": [
    "import matplotlib.pyplot as plt\n",
    "\n",
    "plt.xlabel('Number of Days')\n",
    "plt.ylabel('Number of Rice')\n",
    "plt.title('Change in the Number of Rice Grain')\n",
    "plt.plot(list_n_grains1, list_total_grains1, linewidth=3.0)\n",
    "plt.tick_params(labelsize=10)\n",
    "plt.figure(figsize=(48, 24))\n",
    "plt.show()"
   ]
  },
  {
   "cell_type": "code",
   "execution_count": null,
   "metadata": {},
   "outputs": [],
   "source": []
  },
  {
   "cell_type": "markdown",
   "metadata": {},
   "source": [
    "# 【Problem 3] How many people can live for how many days with the rice we get?"
   ]
  },
  {
   "cell_type": "markdown",
   "metadata": {},
   "source": [
    " According to a research done on Wikipedia, the united nation's world food program stated that\n",
    " it takes  400 grams or about  19200 grains of rice to feed one adult for a day."
   ]
  },
  {
   "cell_type": "code",
   "execution_count": null,
   "metadata": {},
   "outputs": [],
   "source": [
    "#Create a function\n",
    "def compute_n_days(number_of_grain, number_of_people, ):\n",
    "    \"\"\"\n",
    "    A function to calculate the number of people can live for how many days with the rice we get.\n",
    "\n",
    "    Parameteres\n",
    "    --------------\n",
    "    number_of_grain: int\n",
    "        The number of grains of rice \n",
    "     number_of_people: int\n",
    "        number of people to live \n",
    "\n",
    "    Returns\n",
    "    --------------\n",
    "    days_to_live : int\n",
    "        shows the number of days a person will  live \n",
    "    \n",
    "    \"\"\"\n",
    "    \n",
    "    days_to_live = total_grain_rice/(number_of_grain*number_of_people)\n",
    "    number_of_people = total_grain_rice/(number_of_grain*days_to_live)\n",
    "    return days_to_live\n",
    "days_to_live  = compute_n_days(number_of_grain=19200, number_of_people=60)\n",
    "print(\"{} DAYS\".format(days_to_live))"
   ]
  },
  {
   "cell_type": "code",
   "execution_count": null,
   "metadata": {},
   "outputs": [],
   "source": [
    "#Create a function\n",
    "def compute_n_days(number_of_grain, number_of_people, ):\n",
    "    \"\"\"\n",
    "    A function to calculate the number of people can live for how many days with the rice we get.\n",
    "\n",
    "    Parameteres\n",
    "    --------------\n",
    "    number_of_grain: int\n",
    "        The number of grains of rice \n",
    "     number_of_people: int\n",
    "        number of people to live \n",
    "\n",
    "    Returns\n",
    "    --------------\n",
    "    days_to_live : int\n",
    "        shows the number of days a person will  live \n",
    "    \n",
    "    \"\"\"\n",
    "    #A version of problem 3 than respond to the input of user in problem 2\n",
    "    days_to_live = list_total_grains1[-1]/(number_of_grain*number_of_people)\n",
    "    number_of_people = list_total_grains1[-1]/(number_of_grain*days_to_live)\n",
    "    \n",
    "    return days_to_live\n",
    "days_to_live  = compute_n_days(number_of_grain=19200, number_of_people=60)\n",
    "print(\"{} DAYS\".format(days_to_live))"
   ]
  }
 ],
 "metadata": {
  "kernelspec": {
   "display_name": "Python 3",
   "language": "python",
   "name": "python3"
  },
  "language_info": {
   "codemirror_mode": {
    "name": "ipython",
    "version": 3
   },
   "file_extension": ".py",
   "mimetype": "text/x-python",
   "name": "python",
   "nbconvert_exporter": "python",
   "pygments_lexer": "ipython3",
   "version": "3.8.5"
  }
 },
 "nbformat": 4,
 "nbformat_minor": 4
}
